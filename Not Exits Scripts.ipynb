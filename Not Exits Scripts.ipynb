{
    "metadata": {
        "kernelspec": {
            "name": "SQL",
            "display_name": "SQL",
            "language": "sql"
        },
        "language_info": {
            "name": "sql",
            "version": ""
        }
    },
    "nbformat_minor": 2,
    "nbformat": 4,
    "cells": [
        {
            "cell_type": "code",
            "source": [
                "-- CREATE SCHEMA IF NOT EXISTS\n",
                "IF NOT EXISTS ( SELECT *\n",
                "FROM sys.schemas\n",
                "WHERE NAME =N'DUMMY_SCHEMA' )\n",
                "EXEC('CREATE SCHEMA DUMMY_SCHEMA');\n",
                "GO\n",
                "\n",
                "-- CREATE TABLE IF NOT EXISTS\n",
                "IF NOT EXISTS ( SELECT *\n",
                "FROM sys.objects\n",
                "WHERE object_id =OBJECT_ID(N'DUMMY_TABLE') AND TYPE IN (N'U') )\n",
                "EXEC('\n",
                "    CREATE TABLE DUMMY_TABLE (\n",
                "        NAME VARCHAR(100) NOT NULL\n",
                "    );\n",
                "');\n",
                "GO\n",
                "\n",
                "-- UPDATE STORED PROCEDURE\n",
                "IF OBJECT_ID('SP_DUMMY') IS NOT NULL   \n",
                "    DROP PROCEDURE SP_DUMMY;\n",
                "GO\n",
                "EXEC('\n",
                "    UPDATED STORED PROCEDURE CODE\n",
                "');\n",
                "\n",
                "-- FUNCTION\n",
                "IF OBJECT_ID('GETNAMES', 'FN') IS NOT NULL\n",
                "    DROP FUNCTION GETNAMES\n",
                "GO;\n",
                "EXEC('\n",
                "    UPDATED FUNCTION CODE \n",
                "');\n",
                "\n",
                "-- INSERT DATA INTO TABLE\n",
                "IF NOT EXISTS (SELECT *\n",
                "FROM DUMMY_TABLE\n",
                "WHERE ID=1)\n",
                "    INSERT INTO DEMO\n",
                "VALUES('DUMMY VALEUS');\n",
                "GO"
            ],
            "metadata": {
                "azdata_cell_guid": "24ba2057-a3eb-47cd-907a-c345cd6ee0c9",
                "language": "sql"
            },
            "outputs": [],
            "execution_count": null
        }
    ]
}